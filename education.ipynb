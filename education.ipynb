{
 "cells": [
  {
   "cell_type": "code",
   "execution_count": 72,
   "metadata": {},
   "outputs": [],
   "source": [
    "import pandas as pd\n",
    "import matplotlib.pyplot as plt"
   ]
  },
  {
   "cell_type": "code",
   "execution_count": 73,
   "metadata": {},
   "outputs": [],
   "source": [
    "# Population\n",
    "df_population = pd.read_csv('/home/cng000/Document/DataScience/project/dataset/PEP_2017_PEPANNRES_with_ann.csv')"
   ]
  },
  {
   "cell_type": "code",
   "execution_count": 74,
   "metadata": {},
   "outputs": [],
   "source": [
    "df_population.drop(df_population.index[0],inplace=True)\n",
    "df_population.drop(columns=['rescen42010','resbase42010'],inplace=True)\n"
   ]
  },
  {
   "cell_type": "code",
   "execution_count": 77,
   "metadata": {},
   "outputs": [
    {
     "data": {
      "text/html": [
       "<div>\n",
       "<style scoped>\n",
       "    .dataframe tbody tr th:only-of-type {\n",
       "        vertical-align: middle;\n",
       "    }\n",
       "\n",
       "    .dataframe tbody tr th {\n",
       "        vertical-align: top;\n",
       "    }\n",
       "\n",
       "    .dataframe thead th {\n",
       "        text-align: right;\n",
       "    }\n",
       "</style>\n",
       "<table border=\"1\" class=\"dataframe\">\n",
       "  <thead>\n",
       "    <tr style=\"text-align: right;\">\n",
       "      <th></th>\n",
       "      <th>GEO.id</th>\n",
       "      <th>GEO.id2</th>\n",
       "      <th>GEO.display-label</th>\n",
       "      <th>2010</th>\n",
       "      <th>2011</th>\n",
       "      <th>2012</th>\n",
       "      <th>2013</th>\n",
       "      <th>2014</th>\n",
       "      <th>2015</th>\n",
       "      <th>2016</th>\n",
       "      <th>2017</th>\n",
       "    </tr>\n",
       "  </thead>\n",
       "  <tbody>\n",
       "    <tr>\n",
       "      <th>1</th>\n",
       "      <td>0400000US01</td>\n",
       "      <td>1.0</td>\n",
       "      <td>Alabama</td>\n",
       "      <td>4785579</td>\n",
       "      <td>4798649</td>\n",
       "      <td>4813946</td>\n",
       "      <td>4827660</td>\n",
       "      <td>4840037</td>\n",
       "      <td>4850858</td>\n",
       "      <td>4860545</td>\n",
       "      <td>4874747</td>\n",
       "    </tr>\n",
       "    <tr>\n",
       "      <th>2</th>\n",
       "      <td>0400000US02</td>\n",
       "      <td>2.0</td>\n",
       "      <td>Alaska</td>\n",
       "      <td>714015</td>\n",
       "      <td>722259</td>\n",
       "      <td>730825</td>\n",
       "      <td>736760</td>\n",
       "      <td>736759</td>\n",
       "      <td>737979</td>\n",
       "      <td>741522</td>\n",
       "      <td>739795</td>\n",
       "    </tr>\n",
       "    <tr>\n",
       "      <th>3</th>\n",
       "      <td>0400000US04</td>\n",
       "      <td>4.0</td>\n",
       "      <td>Arizona</td>\n",
       "      <td>6407002</td>\n",
       "      <td>6465488</td>\n",
       "      <td>6544211</td>\n",
       "      <td>6616124</td>\n",
       "      <td>6706435</td>\n",
       "      <td>6802262</td>\n",
       "      <td>6908642</td>\n",
       "      <td>7016270</td>\n",
       "    </tr>\n",
       "    <tr>\n",
       "      <th>4</th>\n",
       "      <td>0400000US05</td>\n",
       "      <td>5.0</td>\n",
       "      <td>Arkansas</td>\n",
       "      <td>2921737</td>\n",
       "      <td>2938640</td>\n",
       "      <td>2949208</td>\n",
       "      <td>2956780</td>\n",
       "      <td>2964800</td>\n",
       "      <td>2975626</td>\n",
       "      <td>2988231</td>\n",
       "      <td>3004279</td>\n",
       "    </tr>\n",
       "    <tr>\n",
       "      <th>5</th>\n",
       "      <td>0400000US06</td>\n",
       "      <td>6.0</td>\n",
       "      <td>California</td>\n",
       "      <td>37327690</td>\n",
       "      <td>37672654</td>\n",
       "      <td>38019006</td>\n",
       "      <td>38347383</td>\n",
       "      <td>38701278</td>\n",
       "      <td>39032444</td>\n",
       "      <td>39296476</td>\n",
       "      <td>39536653</td>\n",
       "    </tr>\n",
       "  </tbody>\n",
       "</table>\n",
       "</div>"
      ],
      "text/plain": [
       "        GEO.id  GEO.id2 GEO.display-label      2010      2011      2012  \\\n",
       "1  0400000US01      1.0           Alabama   4785579   4798649   4813946   \n",
       "2  0400000US02      2.0            Alaska    714015    722259    730825   \n",
       "3  0400000US04      4.0           Arizona   6407002   6465488   6544211   \n",
       "4  0400000US05      5.0          Arkansas   2921737   2938640   2949208   \n",
       "5  0400000US06      6.0        California  37327690  37672654  38019006   \n",
       "\n",
       "       2013      2014      2015      2016      2017  \n",
       "1   4827660   4840037   4850858   4860545   4874747  \n",
       "2    736760    736759    737979    741522    739795  \n",
       "3   6616124   6706435   6802262   6908642   7016270  \n",
       "4   2956780   2964800   2975626   2988231   3004279  \n",
       "5  38347383  38701278  39032444  39296476  39536653  "
      ]
     },
     "execution_count": 77,
     "metadata": {},
     "output_type": "execute_result"
    }
   ],
   "source": [
    "df_population.head()"
   ]
  },
  {
   "cell_type": "code",
   "execution_count": null,
   "metadata": {},
   "outputs": [],
   "source": []
  }
 ],
 "metadata": {
  "kernelspec": {
   "display_name": "Python 3",
   "language": "python",
   "name": "python3"
  },
  "language_info": {
   "codemirror_mode": {
    "name": "ipython",
    "version": 3
   },
   "file_extension": ".py",
   "mimetype": "text/x-python",
   "name": "python",
   "nbconvert_exporter": "python",
   "pygments_lexer": "ipython3",
   "version": "3.6.5"
  }
 },
 "nbformat": 4,
 "nbformat_minor": 2
}
