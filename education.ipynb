{
 "cells": [
  {
   "cell_type": "code",
   "execution_count": null,
   "metadata": {},
   "outputs": [],
   "source": [
    "import pandas as pd\n",
    "import matplotlib.pyplot as plt"
   ]
  },
  {
   "cell_type": "code",
   "execution_count": null,
   "metadata": {},
   "outputs": [],
   "source": [
    "# Gun \n",
    "df_gun = pd.read_csv('../dataset/gun-violence-data_01-2013_03-2018.csv')\n",
    "# df_gun_violence = pd.read_csv('https://media.githubusercontent.com/media/Cng000/Gun-violence-analysis/gun-violence-data/dataset/gun-violence-data_01-2013_03-2018.csv')"
   ]
  },
  {
   "cell_type": "code",
   "execution_count": null,
   "metadata": {},
   "outputs": [],
   "source": [
    "# Population\n",
    "df_population = pd.read_csv('../dataset/state_population_by_year.csv')"
   ]
  },
  {
   "cell_type": "code",
   "execution_count": null,
   "metadata": {},
   "outputs": [],
   "source": [
    "# Education \n",
    "df_edu = pd.read_csv('../dataset/ACS_17_1YR_B06009_with_ann.csv',skiprows=1)"
   ]
  },
  {
   "cell_type": "code",
   "execution_count": null,
   "metadata": {},
   "outputs": [],
   "source": [
    "# applying ETL to dataset \n",
    "df_population.drop(df_population.index[0],inplace=True)\n",
    "df_population.drop(columns=['rescen42010','resbase42010'],inplace=True)\n"
   ]
  },
  {
   "cell_type": "code",
   "execution_count": null,
   "metadata": {},
   "outputs": [],
   "source": [
    "df_population.head()"
   ]
  },
  {
   "cell_type": "code",
   "execution_count": null,
   "metadata": {},
   "outputs": [],
   "source": [
    "# df_edu.head()"
   ]
  },
  {
   "cell_type": "code",
   "execution_count": null,
   "metadata": {},
   "outputs": [],
   "source": [
    "# df_edu_new.shape"
   ]
  },
  {
   "cell_type": "code",
   "execution_count": null,
   "metadata": {
    "scrolled": true
   },
   "outputs": [],
   "source": [
    "df_edu_new = df_edu[['Estimate; Total:','Geography','Estimate; Total: - Less than high school graduate','Estimate; Total: - Some college or associate\\'s degree',\n",
    "      'Estimate; Total: - Bachelor\\'s degree']]\n",
    "# df_edu_new"
   ]
  },
  {
   "cell_type": "code",
   "execution_count": null,
   "metadata": {},
   "outputs": [],
   "source": [
    "# df_edu_new = df_edu_new.rename(index=str, columns={\"Geography\": \"state\"})\n",
    "# df_population = df_population.rename(index=str,columns={\"GEO.display-label\":\"state\"})"
   ]
  },
  {
   "cell_type": "code",
   "execution_count": null,
   "metadata": {},
   "outputs": [],
   "source": [
    "# df_final = df_edu_new.merge(df_population, how='inner', on='state')\n",
    "# df_final"
   ]
  },
  {
   "cell_type": "code",
   "execution_count": null,
   "metadata": {},
   "outputs": [],
   "source": [
    "df_edu_new[\"% of less than hs\"] = df_edu_new['Estimate; Total: - Less than high school graduate']/df_edu_new['Estimate; Total:']\n",
    "df_edu_new[\"% of some college or associate\"] = df_edu_new['Estimate; Total: - Some college or associate\\'s degree']/df_edu_new['Estimate; Total:']\n",
    "df_edu_new[\"% of bachelor\"] = df_edu_new['Estimate; Total: - Bachelor\\'s degree']/df_edu_new['Estimate; Total:']"
   ]
  },
  {
   "cell_type": "code",
   "execution_count": null,
   "metadata": {},
   "outputs": [],
   "source": [
    "df_edu_new = df_edu_new.rename(index=str, columns={\"Geography\": \"state\"})\n",
    "df_edu = df_edu_new[['state','% of less than hs','% of some college or associate','% of bachelor']]"
   ]
  },
  {
   "cell_type": "code",
   "execution_count": null,
   "metadata": {},
   "outputs": [],
   "source": [
    "df_gun['year'] = pd.to_numeric(df_gun.date.str[0:4], downcast='integer')"
   ]
  },
  {
   "cell_type": "code",
   "execution_count": null,
   "metadata": {},
   "outputs": [],
   "source": [
    "df_gun_new = df_gun.loc[df_gun.year == 2017]['state'].value_counts().reset_index().rename(index=str, columns={'index':'state', 'state':'incident_counts'})"
   ]
  },
  {
   "cell_type": "code",
   "execution_count": null,
   "metadata": {},
   "outputs": [],
   "source": [
    "df_final = pd.merge(df_gun_new, df_edu, on=\"state\", how=\"outer\")\n",
    "df_final"
   ]
  },
  {
   "cell_type": "code",
   "execution_count": null,
   "metadata": {
    "scrolled": true
   },
   "outputs": [],
   "source": [
    "#df_final.plot.scatter('state','% of less than hs')\n",
    "df_final.plot.scatter('% of some college or associate', 'incident_counts')"
   ]
  },
  {
   "cell_type": "code",
   "execution_count": null,
   "metadata": {},
   "outputs": [],
   "source": [
    "df_final.plot.scatter('% of less than hs', 'incident_counts')"
   ]
  },
  {
   "cell_type": "code",
   "execution_count": null,
   "metadata": {},
   "outputs": [],
   "source": [
    "df_final.plot.scatter('% of bachelor', 'incident_counts')"
   ]
  }
 ],
 "metadata": {
  "kernelspec": {
   "display_name": "Python 3",
   "language": "python",
   "name": "python3"
  },
  "language_info": {
   "codemirror_mode": {
    "name": "ipython",
    "version": 3
   },
   "file_extension": ".py",
   "mimetype": "text/x-python",
   "name": "python",
   "nbconvert_exporter": "python",
   "pygments_lexer": "ipython3",
   "version": "3.6.5"
  }
 },
 "nbformat": 4,
 "nbformat_minor": 2
}
