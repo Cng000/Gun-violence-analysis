{
 "cells": [
  {
   "cell_type": "markdown",
   "metadata": {},
   "source": [
    "# Gun Violence Dataset"
   ]
  },
  {
   "cell_type": "code",
   "execution_count": null,
   "metadata": {},
   "outputs": [],
   "source": [
    "import pandas as pd\n",
    "import matplotlib.pyplot as plt"
   ]
  },
  {
   "cell_type": "code",
   "execution_count": null,
   "metadata": {},
   "outputs": [],
   "source": [
    "# gun violence data 2013-2018\n",
    "df_gun_violence = pd.read_csv('https://media.githubusercontent.com/media/Cng000/Gun-violence-analysis/carlos/dataset/gun-violence-data_01-2013_03-2018.csv')"
   ]
  },
  {
   "cell_type": "code",
   "execution_count": null,
   "metadata": {},
   "outputs": [],
   "source": [
    "# mean annual household income (2016)\n",
    "df_income = pd.read_csv(\"https://raw.githubusercontent.com/Cng000/Gun-violence-analysis/gun-violence-data/dataset/2016_mean_income_raw_data.csv\", skiprows=2)"
   ]
  },
  {
   "cell_type": "markdown",
   "metadata": {},
   "source": [
    "## Gun Violence Analysis"
   ]
  },
  {
   "cell_type": "code",
   "execution_count": null,
   "metadata": {},
   "outputs": [],
   "source": [
    "df_gun_violence.info()"
   ]
  },
  {
   "cell_type": "code",
   "execution_count": null,
   "metadata": {},
   "outputs": [],
   "source": [
    "df_gun_violence.head()"
   ]
  },
  {
   "cell_type": "code",
   "execution_count": null,
   "metadata": {},
   "outputs": [],
   "source": [
    "df_gun_violence_new = df[['incident_id', 'date', 'state', 'city_or_county', 'n_killed', 'n_injured', 'congressional_district', 'gun_stolen', 'gun_type', 'incident_characteristics', 'n_guns_involved', 'participant_age', 'participant_age_group', 'participant_gender', 'participant_status', 'participant_type', 'state_house_district', 'state_senate_district']]"
   ]
  },
  {
   "cell_type": "code",
   "execution_count": null,
   "metadata": {},
   "outputs": [],
   "source": [
    "df_gun_violence_new.info()"
   ]
  },
  {
   "cell_type": "markdown",
   "metadata": {},
   "source": [
    "#### Top ten cities/counties by number of incidents"
   ]
  },
  {
   "cell_type": "code",
   "execution_count": null,
   "metadata": {},
   "outputs": [],
   "source": [
    "df_gun_violence_new['city_or_county'].value_counts().head(10)"
   ]
  },
  {
   "cell_type": "code",
   "execution_count": null,
   "metadata": {},
   "outputs": [],
   "source": [
    "# graph results\n",
    "y = df_gun_violence_new['city_or_county'].value_counts().index\n",
    "x = df_gun_violence_new['city_or_county'].value_counts().head(10)\n",
    "x = list(x)\n",
    "\n",
    "city = []\n",
    "for i in range(0,10):\n",
    "    city.append(y[i])\n",
    "\n",
    "_ = plt.scatter(x=city, y=x)\n",
    "_ = plt.xticks(rotation=90)\n",
    "_ = plt.xlabel(\"city\")\n",
    "_ = plt.ylabel(\"# of incidents\")\n",
    "plt.show()"
   ]
  },
  {
   "cell_type": "code",
   "execution_count": null,
   "metadata": {},
   "outputs": [],
   "source": []
  },
  {
   "cell_type": "markdown",
   "metadata": {},
   "source": [
    "## Mean Income 2016 Analysis"
   ]
  },
  {
   "cell_type": "code",
   "execution_count": null,
   "metadata": {},
   "outputs": [],
   "source": [
    "df_income.info()"
   ]
  },
  {
   "cell_type": "code",
   "execution_count": null,
   "metadata": {},
   "outputs": [],
   "source": [
    "df_income.head()"
   ]
  },
  {
   "cell_type": "code",
   "execution_count": null,
   "metadata": {},
   "outputs": [],
   "source": [
    "# dropped US average income and 'Notes'\n",
    "df_income.drop(df_income.index[0], inplace=True)\n",
    "df_income.drop(df_income.index[52:], inplace=True)"
   ]
  },
  {
   "cell_type": "code",
   "execution_count": null,
   "metadata": {},
   "outputs": [],
   "source": [
    "df_income"
   ]
  },
  {
   "cell_type": "code",
   "execution_count": null,
   "metadata": {},
   "outputs": [],
   "source": [
    "# renamed columns\n",
    "# dropped '$' and convert from str to int\n",
    "df_income = df_income.rename(index=str, columns={\"Location\":\"state\", \"Median Annual Household Income\": \"median_annual_household_income_2016\"})\n",
    "df_income['median_annual_household_income_2016'] = pd.to_numeric(df_income['median_annual_household_income_2016'].str[1:], downcast='integer')\n",
    "df_income"
   ]
  },
  {
   "cell_type": "code",
   "execution_count": null,
   "metadata": {},
   "outputs": [],
   "source": [
    "# merged both dataframe(gun-violence && 2016_income)\n",
    "df_gun_income = pd.merge(df_gun_violence_new, df_income, on=\"state\", how=\"outer\")\n",
    "df_gun_income"
   ]
  },
  {
   "cell_type": "code",
   "execution_count": null,
   "metadata": {},
   "outputs": [],
   "source": [
    "# merge incident count and mean income (mean annual income household 2016 only) per state\n",
    "incident_count_per_state = df_gun_income['state'].value_counts().to_frame().reset_index().rename(index=str, columns={\"index\":\"state\", \"state\":\"incident_count\"})\n",
    "state_incidentCount_medianIncome = pd.merge(incident_count_per_state, df_income, on=\"state\", how=\"outer\")\n",
    "state_incidentCount_medianIncome\n"
   ]
  },
  {
   "cell_type": "code",
   "execution_count": null,
   "metadata": {},
   "outputs": [],
   "source": [
    "# graphed (median_income && incident_count)\n",
    "state_incidentCount_medianIncome.plot.scatter('median_annual_household_income_2016', 'incident_count')"
   ]
  }
 ],
 "metadata": {
  "kernelspec": {
   "display_name": "Python 3",
   "language": "python",
   "name": "python3"
  },
  "language_info": {
   "codemirror_mode": {
    "name": "ipython",
    "version": 3
   },
   "file_extension": ".py",
   "mimetype": "text/x-python",
   "name": "python",
   "nbconvert_exporter": "python",
   "pygments_lexer": "ipython3",
   "version": "3.6.3"
  }
 },
 "nbformat": 4,
 "nbformat_minor": 2
}
