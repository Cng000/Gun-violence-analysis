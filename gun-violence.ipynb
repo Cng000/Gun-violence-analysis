{
 "cells": [
  {
   "cell_type": "markdown",
   "metadata": {},
   "source": [
    "# Gun Violence Dataset"
   ]
  },
  {
   "cell_type": "code",
   "execution_count": null,
   "metadata": {},
   "outputs": [],
   "source": [
    "import numpy as np\n",
    "import pandas as pd\n",
    "import matplotlib.pyplot as plt\n",
    "\n",
    "import statsmodels.api as sm\n",
    "from sklearn.linear_model import LinearRegression, Ridge, Lasso\n",
    "from sklearn.model_selection import cross_val_score\n",
    "from sklearn.model_selection import train_test_split\n"
   ]
  },
  {
   "cell_type": "code",
   "execution_count": null,
   "metadata": {},
   "outputs": [],
   "source": [
    "# gun violence data 2013-2018\n",
    "# df_gun_violence = pd.read_csv('./dataset/gun-violence-data_01-2013_03-2018.csv')\n",
    "df_gun_violence = pd.read_csv('https://media.githubusercontent.com/media/Cng000/Gun-violence-analysis/master/dataset/gun-violence-data_01-2013_03-2018.csv')"
   ]
  },
  {
   "cell_type": "code",
   "execution_count": null,
   "metadata": {},
   "outputs": [],
   "source": [
    "# mean annual household income (2017)\n",
    "# df_income = pd.read_csv('./dataset/ACS_17_1YR_S1901_with_ann.csv', skiprows=1)\n",
    "df_income = pd.read_csv('https://raw.githubusercontent.com/Cng000/Gun-violence-analysis/master/dataset/ACS_17_1YR_S1901_with_ann.csv', skiprows=1)"
   ]
  },
  {
   "cell_type": "code",
   "execution_count": null,
   "metadata": {},
   "outputs": [],
   "source": [
    "# population estimates\n",
    "#df_state_populations = pd.read_csv('./dataset/population_estimates.csv', skiprows=1)\n",
    "df_state_populations = pd.read_csv('https://raw.githubusercontent.com/Cng000/Gun-violence-analysis/master/dataset/population_estimates.csv', skiprows=1)"
   ]
  },
  {
   "cell_type": "code",
   "execution_count": null,
   "metadata": {},
   "outputs": [],
   "source": [
    "# NRA spending\n",
    "df_nra_spending = pd.read_csv('https://raw.githubusercontent.com/Cng000/Gun-violence-analysis/master/dataset/nra_spending_115th_congress.csv', skiprows=1)\n",
    "# US state codes (source, https://github.com/jasonong/List-of-US-States/blob/master/states.csv)\n",
    "df_state_codes = pd.read_csv('https://raw.githubusercontent.com/jasonong/List-of-US-States/master/states.csv')"
   ]
  },
  {
   "cell_type": "code",
   "execution_count": null,
   "metadata": {},
   "outputs": [],
   "source": [
    "# unemployment data\n",
    "# raw data: https://factfinder.census.gov/faces/tableservices/jsf/pages/productview.xhtml?pid=ACS_17_5YR_S2301&prodType=table\n",
    "df_unemployment = pd.read_csv('./dataset/ACS_17_5YR_S2301_with_ann.csv', skiprows=1)\n"
   ]
  },
  {
   "cell_type": "code",
   "execution_count": null,
   "metadata": {},
   "outputs": [],
   "source": [
    "# Education \n",
    "df_edu = pd.read_csv('./dataset/raw_education_2017.csv',skiprows=1)\n",
    "# df_edu = pd.read_csv('https://raw.githubusercontent.com/Cng000/Gun-violence-analysis/master/dataset/raw_education_2017.csv',skiprows=1)"
   ]
  },
  {
   "cell_type": "code",
   "execution_count": null,
   "metadata": {},
   "outputs": [],
   "source": []
  },
  {
   "cell_type": "markdown",
   "metadata": {},
   "source": [
    "### Gun Violence Analysis"
   ]
  },
  {
   "cell_type": "code",
   "execution_count": null,
   "metadata": {},
   "outputs": [],
   "source": [
    "df_gun_violence.info()"
   ]
  },
  {
   "cell_type": "code",
   "execution_count": null,
   "metadata": {},
   "outputs": [],
   "source": [
    "df_gun_violence.head()"
   ]
  },
  {
   "cell_type": "code",
   "execution_count": null,
   "metadata": {},
   "outputs": [],
   "source": [
    "# let's drop some columns\n",
    "df_gun_violence.drop(['incident_id', 'address', 'incident_url', 'source_url', 'incident_url_fields_missing', 'latitude', 'location_description', 'longitude', 'notes', 'participant_name', 'participant_relationship', 'sources'], axis=1)"
   ]
  },
  {
   "cell_type": "code",
   "execution_count": null,
   "metadata": {},
   "outputs": [],
   "source": [
    "# extract year from date\n",
    "df_gun_violence['year'] = pd.to_numeric(df_gun_violence['date'].str[0:4], downcast='integer')"
   ]
  },
  {
   "cell_type": "code",
   "execution_count": null,
   "metadata": {},
   "outputs": [],
   "source": []
  },
  {
   "cell_type": "markdown",
   "metadata": {},
   "source": [
    "#### Top 10 cities/counties by number of incidents"
   ]
  },
  {
   "cell_type": "code",
   "execution_count": null,
   "metadata": {},
   "outputs": [],
   "source": [
    "df_gun_violence['city_or_county'].value_counts().head(10)"
   ]
  },
  {
   "cell_type": "code",
   "execution_count": null,
   "metadata": {},
   "outputs": [],
   "source": []
  },
  {
   "cell_type": "markdown",
   "metadata": {},
   "source": [
    "#### Top 10 cities/counties by number of deaths"
   ]
  },
  {
   "cell_type": "code",
   "execution_count": null,
   "metadata": {},
   "outputs": [],
   "source": [
    "df_gun_violence.groupby('city_or_county')['n_killed'].sum().sort_values(ascending=False).head(10)"
   ]
  },
  {
   "cell_type": "code",
   "execution_count": null,
   "metadata": {},
   "outputs": [],
   "source": []
  },
  {
   "cell_type": "markdown",
   "metadata": {},
   "source": [
    "#### Top 10 cities/counties by number of injured"
   ]
  },
  {
   "cell_type": "code",
   "execution_count": null,
   "metadata": {},
   "outputs": [],
   "source": [
    "df_gun_violence.groupby('city_or_county')['n_injured'].sum().sort_values(ascending=False).head(10)"
   ]
  },
  {
   "cell_type": "code",
   "execution_count": null,
   "metadata": {},
   "outputs": [],
   "source": []
  },
  {
   "cell_type": "markdown",
   "metadata": {},
   "source": [
    "#### Top 10 states with higher number of incidents"
   ]
  },
  {
   "cell_type": "code",
   "execution_count": null,
   "metadata": {},
   "outputs": [],
   "source": [
    "df_gun_violence['state'].value_counts().head(10)"
   ]
  },
  {
   "cell_type": "code",
   "execution_count": null,
   "metadata": {},
   "outputs": [],
   "source": []
  },
  {
   "cell_type": "markdown",
   "metadata": {},
   "source": [
    "#### Top 10 states with higher number of deaths"
   ]
  },
  {
   "cell_type": "code",
   "execution_count": null,
   "metadata": {},
   "outputs": [],
   "source": [
    "df_gun_violence.groupby('state')['n_killed'].sum().sort_values(ascending=False).head(10)"
   ]
  },
  {
   "cell_type": "code",
   "execution_count": null,
   "metadata": {},
   "outputs": [],
   "source": []
  },
  {
   "cell_type": "markdown",
   "metadata": {},
   "source": [
    "#### Top 10 states with higher number of injuries"
   ]
  },
  {
   "cell_type": "code",
   "execution_count": null,
   "metadata": {},
   "outputs": [],
   "source": [
    "df_gun_violence.groupby('state')['n_injured'].sum().sort_values(ascending=False).head(10)"
   ]
  },
  {
   "cell_type": "code",
   "execution_count": null,
   "metadata": {},
   "outputs": [],
   "source": []
  },
  {
   "cell_type": "markdown",
   "metadata": {},
   "source": [
    "#### Can we correlate state population to number of violent incidents/deaths?"
   ]
  },
  {
   "cell_type": "code",
   "execution_count": null,
   "metadata": {
    "scrolled": true
   },
   "outputs": [],
   "source": [
    "# first, let's look at gun incidents for year 2013 only\n",
    "df_gun_violence_2013 = df_gun_violence.loc[df_gun_violence.year == 2013]['state'].value_counts().reset_index().rename(index=str, columns={'index':'state', 'state':'incident_counts_2013'})\n",
    "df_gun_violence_2013"
   ]
  },
  {
   "cell_type": "code",
   "execution_count": null,
   "metadata": {},
   "outputs": [],
   "source": [
    "# no data for 15 states in 2013. Also, incident counts appear to be too low for 2013\n",
    "# Let's get the population estimate of each state now"
   ]
  },
  {
   "cell_type": "code",
   "execution_count": null,
   "metadata": {},
   "outputs": [],
   "source": [
    "# extract 2013 population estimates\n",
    "df_state_populations_2013 = df_state_populations[['Geography', 'Population Estimate (as of July 1) - 2013']]\n",
    "\n",
    "df_state_populations_2013 = df_state_populations_2013.rename(index=str, columns={'Geography':'state', 'Population Estimate (as of July 1) - 2013':'population_estimate_2013'})\n",
    "# merge number of incidents to population estimate (2013 only)\n",
    "df_incidents_population_2013 = df_gun_violence_2013.merge(df_state_populations_2013, how='inner', on='state')\n",
    "# plot results\n",
    "df_incidents_population_2013.plot.scatter('population_estimate_2013', 'incident_counts_2013')"
   ]
  },
  {
   "cell_type": "code",
   "execution_count": null,
   "metadata": {
    "scrolled": true
   },
   "outputs": [],
   "source": [
    "# now, let's combine incident counts for all years. We settle on population estimate for the year 2017\n",
    "df_incident_count_2013_2018 = df_gun_violence['state'].value_counts().reset_index().rename(index=str, columns={'index':'state', 'state':'incident_count_2013_2018'})\n",
    "df_state_populations_2017 = df_state_populations[['Geography','Population Estimate (as of July 1) - 2017']].rename(index=str, columns={'Geography':'state', 'Population Estimate (as of July 1) - 2017':'population_estimate_2017'})\n",
    "df_incident_count_population_estimate_2017 = df_incident_count_2013_2018.merge(df_state_populations_2017, how='inner', left_on='state', right_on='state')\n",
    "df_incident_count_population_estimate_2017.plot.scatter('population_estimate_2017', 'incident_count_2013_2018')"
   ]
  },
  {
   "cell_type": "code",
   "execution_count": null,
   "metadata": {},
   "outputs": [],
   "source": [
    "df_incident_count_population_estimate_2017.corr(method='pearson')"
   ]
  },
  {
   "cell_type": "code",
   "execution_count": null,
   "metadata": {},
   "outputs": [],
   "source": []
  },
  {
   "cell_type": "markdown",
   "metadata": {},
   "source": [
    "#### Mass Shootings"
   ]
  },
  {
   "cell_type": "code",
   "execution_count": null,
   "metadata": {
    "scrolled": false
   },
   "outputs": [],
   "source": [
    "# top ten states with most mass shootings from 2013 to 2018\n",
    "df_gun_violence['mass_shooting'] = pd.to_numeric(df_gun_violence['incident_characteristics'].str.contains('Mass Shooting', case=False), downcast='integer')\n",
    "df_gun_violence.loc[df_gun_violence['mass_shooting'] == 1.0]['state'].value_counts().head(10)"
   ]
  },
  {
   "cell_type": "code",
   "execution_count": null,
   "metadata": {},
   "outputs": [],
   "source": [
    "# population estimate vs. mass shooting count\n",
    "df_gun_violence.loc[df_gun_violence['mass_shooting'] == 1.0]['state'].value_counts().reset_index().rename(index=str, columns={'index':'state', 'state':'mass_shooting_count'}).merge(df_state_populations_2017, how='inner', left_on='state', right_on='state').plot.scatter('population_estimate_2017', 'mass_shooting_count')"
   ]
  },
  {
   "cell_type": "code",
   "execution_count": null,
   "metadata": {},
   "outputs": [],
   "source": []
  },
  {
   "cell_type": "markdown",
   "metadata": {},
   "source": [
    "#### Home Invasion"
   ]
  },
  {
   "cell_type": "code",
   "execution_count": null,
   "metadata": {},
   "outputs": [],
   "source": [
    "# top ten states with most home invasions from 2013 to 2018\n",
    "df_gun_violence['home_invasion'] = pd.to_numeric(df_gun_violence['incident_characteristics'].str.contains('Home Invasion', case=False), downcast='integer')\n",
    "df_gun_violence.loc[df_gun_violence['home_invasion'] == 1.0]['state'].value_counts().head(10)"
   ]
  },
  {
   "cell_type": "code",
   "execution_count": null,
   "metadata": {
    "scrolled": true
   },
   "outputs": [],
   "source": [
    "# population estimate vs. home invasion count\n",
    "df_gun_violence.loc[df_gun_violence['home_invasion'] == 1.0]['state'].value_counts().reset_index().rename(index=str, columns={'index':'state', 'state':'home_invasion_count'}).merge(df_state_populations_2017, how='inner', left_on='state', right_on='state').plot.scatter('population_estimate_2017', 'home_invasion_count')"
   ]
  },
  {
   "cell_type": "code",
   "execution_count": null,
   "metadata": {},
   "outputs": [],
   "source": []
  },
  {
   "cell_type": "markdown",
   "metadata": {},
   "source": [
    "#### United States Regions"
   ]
  },
  {
   "cell_type": "code",
   "execution_count": null,
   "metadata": {},
   "outputs": [],
   "source": [
    "# Census regions of the United States (source: https://www2.census.gov/geo/pdfs/maps-data/maps/reference/us_regdiv.pdf)\n",
    "northeast = ['Connecticut', 'Maine', 'Massachusetts', 'New Hampshire', 'Rhode Island', 'Vermont', 'New Jersey', 'New York', 'Pennsylvania'] \n",
    "midwest = ['Indiana', 'Illinois', 'Michigan', 'Ohio', 'Wisconsin', 'Iowa', 'Kansas', 'Minnesota', 'Missouri', 'Nebraska', 'North Dakota', 'South Dakota'] \n",
    "south = ['Delaware', 'District of Columbia', 'Florida', 'Georgia', 'Maryland', 'North Carolina', 'South Carolina', 'Virginia', 'West Virginia', 'Alabama', 'Kentucky', 'Mississippi', 'Tennessee', 'Arkansas', 'Louisiana', 'Oklahoma', 'Texas'] \n",
    "west = ['Arizona', 'Colorado', 'Idaho', 'New Mexico', 'Montana', 'Utah', 'Nevada', 'Wyoming', 'Alaska', 'California', 'Hawaii', 'Oregon', 'Washington']"
   ]
  },
  {
   "cell_type": "code",
   "execution_count": null,
   "metadata": {},
   "outputs": [],
   "source": [
    "# states in northeast region by number of incidents\n",
    "df_gun_violence.loc[df_gun_violence['state'].isin(northeast)]['state'].value_counts()"
   ]
  },
  {
   "cell_type": "code",
   "execution_count": null,
   "metadata": {},
   "outputs": [],
   "source": [
    "# states in midwest region by number of incidents\n",
    "df_gun_violence.loc[df_gun_violence['state'].isin(midwest)]['state'].value_counts()"
   ]
  },
  {
   "cell_type": "code",
   "execution_count": null,
   "metadata": {},
   "outputs": [],
   "source": [
    "# states in south region by number of incidents\n",
    "df_gun_violence.loc[df_gun_violence['state'].isin(south)]['state'].value_counts()"
   ]
  },
  {
   "cell_type": "code",
   "execution_count": null,
   "metadata": {},
   "outputs": [],
   "source": [
    "# states in west region by number of incidents\n",
    "df_gun_violence.loc[df_gun_violence['state'].isin(west)]['state'].value_counts()"
   ]
  },
  {
   "cell_type": "code",
   "execution_count": null,
   "metadata": {},
   "outputs": [],
   "source": []
  },
  {
   "cell_type": "markdown",
   "metadata": {},
   "source": [
    "## Mean Income 2017 Analysis"
   ]
  },
  {
   "cell_type": "code",
   "execution_count": null,
   "metadata": {},
   "outputs": [],
   "source": [
    "df_income.info()"
   ]
  },
  {
   "cell_type": "code",
   "execution_count": null,
   "metadata": {},
   "outputs": [],
   "source": [
    "# Take only the median income of 2017\n",
    "df_income = df_income[['Geography','Households; Estimate; Median income (dollars)']]\n",
    "df_income"
   ]
  },
  {
   "cell_type": "code",
   "execution_count": null,
   "metadata": {},
   "outputs": [],
   "source": [
    "df_income.head()"
   ]
  },
  {
   "cell_type": "code",
   "execution_count": null,
   "metadata": {
    "scrolled": true
   },
   "outputs": [],
   "source": [
    "# dropped US average income and 'Notes'\n",
    "df_income = df_income.drop(df_income.index[51])\n",
    "df_income"
   ]
  },
  {
   "cell_type": "code",
   "execution_count": null,
   "metadata": {},
   "outputs": [],
   "source": [
    "# renamed columns\n",
    "# dropped '$' and convert from str to int\n",
    "df_income = df_income.rename(index=str, columns={\"Geography\":\"state\", \"Households; Estimate; Median income (dollars)\": \"median_annual_household_income_2017\"})\n",
    "df_income['median_annual_household_income_2017'] = pd.to_numeric(df_income['median_annual_household_income_2017'], downcast='integer')\n",
    "df_income.info()"
   ]
  },
  {
   "cell_type": "code",
   "execution_count": null,
   "metadata": {},
   "outputs": [],
   "source": [
    "# merged both dataframe(gun-violence && 2017_income)\n",
    "df_gun_income = pd.merge(df_gun_violence, df_income, on=\"state\", how=\"outer\")\n",
    "df_gun_income"
   ]
  },
  {
   "cell_type": "code",
   "execution_count": null,
   "metadata": {},
   "outputs": [],
   "source": [
    "# merge incident count and mean income (mean annual income household 2017 only) per state\n",
    "incident_count_per_state = df_gun_income['state'].value_counts().to_frame().reset_index().rename(index=str, columns={\"index\":\"state\", \"state\":\"incident_count\"})\n",
    "state_incidentCount_medianIncome = pd.merge(incident_count_per_state, df_income, on=\"state\", how=\"outer\")\n",
    "state_incidentCount_medianIncome"
   ]
  },
  {
   "cell_type": "code",
   "execution_count": null,
   "metadata": {
    "scrolled": true
   },
   "outputs": [],
   "source": [
    "# graphed (median_income && incident_count)\n",
    "state_incidentCount_medianIncome.plot.scatter('median_annual_household_income_2017', 'incident_count')"
   ]
  },
  {
   "cell_type": "code",
   "execution_count": null,
   "metadata": {
    "scrolled": false
   },
   "outputs": [],
   "source": [
    "state_incidentCount_medianIncome.corr()['median_annual_household_income_2017'].sort_values(ascending=False)[:]"
   ]
  },
  {
   "cell_type": "code",
   "execution_count": null,
   "metadata": {},
   "outputs": [],
   "source": []
  },
  {
   "cell_type": "markdown",
   "metadata": {},
   "source": [
    "## NRA Spending"
   ]
  },
  {
   "cell_type": "code",
   "execution_count": null,
   "metadata": {},
   "outputs": [],
   "source": [
    "# no null values \n",
    "df_nra_spending.info()"
   ]
  },
  {
   "cell_type": "code",
   "execution_count": null,
   "metadata": {
    "scrolled": true
   },
   "outputs": [],
   "source": [
    "df_nra_spending.head(10)"
   ]
  },
  {
   "cell_type": "code",
   "execution_count": null,
   "metadata": {},
   "outputs": [],
   "source": [
    "# From this dataset, we will attempt to correlate direct support, independent support, and grand total to\n",
    "# number of incidents (separately)"
   ]
  },
  {
   "cell_type": "code",
   "execution_count": null,
   "metadata": {
    "scrolled": false
   },
   "outputs": [],
   "source": [
    "# convert monetary object of form '$d,ddd' to integer dddd\n",
    "def convertToNumeric(string):\n",
    "    numeric = ''\n",
    "    for character in string:\n",
    "        if character not in ['$', ',']:\n",
    "            numeric += character\n",
    "    return int(numeric)\n",
    "\n",
    "# convert monetary values\n",
    "df_nra_spending['nra_direct_support_numeric'] = df_nra_spending['NRA Direct Support'].apply(func=convertToNumeric)\n",
    "df_nra_spending['nra_independent_support_numeric'] = df_nra_spending['NRA Independent Support'].apply(func=convertToNumeric)\n",
    "df_nra_spending['nra_grand_total_numeric'] = df_nra_spending['NRA Grand Total'].apply(func=convertToNumeric)\n",
    "\n",
    "# extract state code\n",
    "df_nra_spending['Abbreviation'] = df_nra_spending['Distid'].str[0:2]\n",
    "\n",
    "# extract significant columns\n",
    "# Negative values for 'NRA Grand Total' mean that NRA likely opposes candidate\n",
    "df_nra_spending_n = df_nra_spending.merge(df_state_codes, how='inner', left_on='Abbreviation', right_on='Abbreviation')[['First Race', 'State', 'Party', 'Office', 'nra_direct_support_numeric', 'nra_independent_support_numeric', 'nra_grand_total_numeric']].rename(index=str, columns={'First Race':'first_race', 'State':'state', 'Party':'party', 'Office':'office', 'nra_direct_support_numeric':'nra_direct_support', 'nra_independent_support_numeric':'nra_independent_support', 'nra_grand_total_numeric':'nra_grand_total'})\n",
    "\n",
    "df_nra_spending_n.head()"
   ]
  },
  {
   "cell_type": "code",
   "execution_count": null,
   "metadata": {},
   "outputs": [],
   "source": []
  },
  {
   "cell_type": "markdown",
   "metadata": {},
   "source": [
    "#### NRA direct support (all candidates) vs. total number of incidents"
   ]
  },
  {
   "cell_type": "code",
   "execution_count": null,
   "metadata": {},
   "outputs": [],
   "source": [
    "df_nra_direct_support_all_years = df_nra_spending_n.groupby(by='state')['nra_direct_support'].sum().reset_index()\n",
    "df_incident_counts_2013_2018 = df_gun_violence['state'].value_counts().reset_index().rename(index=str, columns={'index':'state', 'state':'incident_count_2013_2018'})\n",
    "\n",
    "df_nrads_ni = df_nra_direct_support_all_years.merge(df_incident_counts_2013_2018, how='inner', left_on='state', right_on='state')\n",
    "\n",
    "df_nrads_ni.plot.scatter('nra_direct_support', 'incident_count_2013_2018')\n",
    "df_nrads_ni.corr(method='pearson')"
   ]
  },
  {
   "cell_type": "code",
   "execution_count": null,
   "metadata": {},
   "outputs": [],
   "source": []
  },
  {
   "cell_type": "markdown",
   "metadata": {},
   "source": [
    "#### NRA independent support (all candidates) vs. total number of incidents"
   ]
  },
  {
   "cell_type": "code",
   "execution_count": null,
   "metadata": {},
   "outputs": [],
   "source": [
    "df_nra_independent_support_all_years = df_nra_spending_n.groupby(by='state')['nra_independent_support'].sum().reset_index()\n",
    "\n",
    "df_nrais_ni = df_nra_independent_support_all_years.merge(df_incident_counts_2013_2018, how='inner', left_on='state', right_on='state')\n",
    "\n",
    "df_nrais_ni.plot.scatter('nra_independent_support', 'incident_count_2013_2018')\n",
    "df_nrais_ni.corr(method='pearson')"
   ]
  },
  {
   "cell_type": "code",
   "execution_count": null,
   "metadata": {},
   "outputs": [],
   "source": []
  },
  {
   "cell_type": "markdown",
   "metadata": {},
   "source": [
    "#### NRA grand total (all candidates) vs. total number of incidents"
   ]
  },
  {
   "cell_type": "code",
   "execution_count": null,
   "metadata": {},
   "outputs": [],
   "source": [
    "df_nra_grand_total_all_years = df_nra_spending_n.groupby(by='state')['nra_grand_total'].sum().reset_index()\n",
    "\n",
    "df_nragt_ni = df_nra_grand_total_all_years.merge(df_incident_counts_2013_2018, how='inner', left_on='state', right_on='state')\n",
    "\n",
    "df_nragt_ni.plot.scatter('nra_grand_total', 'incident_count_2013_2018')\n",
    "df_nragt_ni.corr(method='pearson')"
   ]
  },
  {
   "cell_type": "code",
   "execution_count": null,
   "metadata": {},
   "outputs": [],
   "source": []
  },
  {
   "cell_type": "markdown",
   "metadata": {},
   "source": [
    "#### NRA direct support (all candidates whose first race >= 2013) vs. total number of incidents"
   ]
  },
  {
   "cell_type": "code",
   "execution_count": null,
   "metadata": {},
   "outputs": [],
   "source": [
    "df_nra_direct_support_after_2013 = df_nra_spending_n.loc[df_nra_spending_n['first_race'] >= 2013].groupby(by='state')['nra_direct_support'].sum().reset_index()\n",
    "\n",
    "df_nrads_ni_a2013 = df_nra_direct_support_after_2013.merge(df_incident_counts_2013_2018, how='inner', left_on='state', right_on='state')\n",
    "\n",
    "df_nrads_ni_a2013.plot.scatter('nra_direct_support', 'incident_count_2013_2018')\n",
    "df_nrads_ni_a2013.corr(method='pearson')"
   ]
  },
  {
   "cell_type": "code",
   "execution_count": null,
   "metadata": {},
   "outputs": [],
   "source": []
  },
  {
   "cell_type": "markdown",
   "metadata": {},
   "source": [
    "#### NRA independent support (all candidates whose first race >= 2013) vs. total number of incidents"
   ]
  },
  {
   "cell_type": "code",
   "execution_count": null,
   "metadata": {},
   "outputs": [],
   "source": [
    "df_nra_independent_support_after_2013 = df_nra_spending_n.loc[df_nra_spending_n['first_race'] >= 2013].groupby(by='state')['nra_independent_support'].sum().reset_index()\n",
    "\n",
    "df_nrais_ni_a2013 = df_nra_independent_support_after_2013.merge(df_incident_counts_2013_2018, how='inner', left_on='state', right_on='state')\n",
    "\n",
    "df_nrais_ni_a2013.plot.scatter('nra_independent_support', 'incident_count_2013_2018')\n",
    "df_nrais_ni_a2013.corr(method='pearson')"
   ]
  },
  {
   "cell_type": "code",
   "execution_count": null,
   "metadata": {},
   "outputs": [],
   "source": []
  },
  {
   "cell_type": "markdown",
   "metadata": {},
   "source": [
    "#### NRA grand total (all candidates whose first race >= 2013) vs. total number of incidents"
   ]
  },
  {
   "cell_type": "code",
   "execution_count": null,
   "metadata": {},
   "outputs": [],
   "source": [
    "df_nra_grand_total_after_2013 = df_nra_spending_n.loc[df_nra_spending_n['first_race'] >= 2013].groupby(by='state')['nra_grand_total'].sum().reset_index()\n",
    "\n",
    "df_nragt_ni_a2013 = df_nra_grand_total_after_2013.merge(df_incident_counts_2013_2018, how='inner', left_on='state', right_on='state')\n",
    "\n",
    "df_nragt_ni_a2013.plot.scatter('nra_grand_total', 'incident_count_2013_2018')\n",
    "df_nragt_ni_a2013.corr(method='pearson')"
   ]
  },
  {
   "cell_type": "code",
   "execution_count": null,
   "metadata": {},
   "outputs": [],
   "source": []
  },
  {
   "cell_type": "markdown",
   "metadata": {},
   "source": [
    "## Unemployment"
   ]
  },
  {
   "cell_type": "code",
   "execution_count": null,
   "metadata": {},
   "outputs": [],
   "source": [
    "df_unemployment"
   ]
  },
  {
   "cell_type": "code",
   "execution_count": null,
   "metadata": {},
   "outputs": [],
   "source": [
    "# Use the columns 'geography' and 'unemployment rate'\n",
    "df_unemployment = df_unemployment[['Geography', 'Unemployment rate; Estimate; Population 16 years and over']]\n",
    "df_unemployment"
   ]
  },
  {
   "cell_type": "code",
   "execution_count": null,
   "metadata": {},
   "outputs": [],
   "source": [
    "# dropped United States and Puerto Rico coloumn\n",
    "df_unemployment = df_unemployment.drop(df_unemployment.index[0])\n",
    "df_unemployment = df_unemployment.drop(df_unemployment.index[51])\n",
    "df_unemployment"
   ]
  },
  {
   "cell_type": "code",
   "execution_count": null,
   "metadata": {},
   "outputs": [],
   "source": [
    "# renamed columns\n",
    "df_unemployment = df_unemployment.rename(index=str, columns={\"Geography\":\"state\", \"Unemployment rate; Estimate; Population 16 years and over\": \"unemployment_rate_of_2017\"})\n",
    "df_unemployment"
   ]
  },
  {
   "cell_type": "code",
   "execution_count": null,
   "metadata": {},
   "outputs": [],
   "source": [
    "df_unemployment.info()"
   ]
  },
  {
   "cell_type": "code",
   "execution_count": null,
   "metadata": {},
   "outputs": [],
   "source": [
    "# include only 2017 related accidents\n",
    "# df_gun_violence_new_2017 = df_gun_violence.loc[df_gun_violence.year == 2017]\n",
    "# df_gun_violence_new_2017"
   ]
  },
  {
   "cell_type": "code",
   "execution_count": null,
   "metadata": {},
   "outputs": [],
   "source": [
    "# merged both dataframe(gun-violence && 2017_employment)\n",
    "df_gun_unemployment = pd.merge(df_gun_violence, df_unemployment, on=\"state\", how=\"outer\")\n",
    "df_gun_unemployment"
   ]
  },
  {
   "cell_type": "code",
   "execution_count": null,
   "metadata": {},
   "outputs": [],
   "source": [
    "# merge incident count and unemployment per state\n",
    "incident_count_per_state = df_gun_unemployment['state'].value_counts().to_frame().reset_index().rename(index=str, columns={\"index\":\"state\", \"state\":\"incident_count\"})\n",
    "state_incidentCount_unemployment = pd.merge(incident_count_per_state, df_unemployment, on=\"state\", how=\"outer\")\n",
    "# state_incidentCount_unemployment.to_csv('unemployment_2017.csv',index=False)"
   ]
  },
  {
   "cell_type": "code",
   "execution_count": null,
   "metadata": {},
   "outputs": [],
   "source": [
    "# graphed (unemployment && incident_count)\n",
    "state_incidentCount_unemployment.plot.scatter('unemployment_rate_of_2017', 'incident_count')"
   ]
  },
  {
   "cell_type": "code",
   "execution_count": null,
   "metadata": {},
   "outputs": [],
   "source": [
    "state_incidentCount_unemployment.corr()['unemployment_rate_of_2017'].sort_values(ascending=False)[:]"
   ]
  },
  {
   "cell_type": "code",
   "execution_count": null,
   "metadata": {},
   "outputs": [],
   "source": []
  },
  {
   "cell_type": "markdown",
   "metadata": {},
   "source": [
    "### Education 2017"
   ]
  },
  {
   "cell_type": "code",
   "execution_count": null,
   "metadata": {},
   "outputs": [],
   "source": [
    "# Filter columns \n",
    "df_edu_new = df_edu[['Estimate; Total:','Geography','Estimate; Total: - Less than high school graduate']].copy()"
   ]
  },
  {
   "cell_type": "code",
   "execution_count": null,
   "metadata": {},
   "outputs": [],
   "source": [
    "# Calculate the percentage of people with education less than high school\n",
    "df_edu_new[\"% of less than hs\"] = df_edu_new['Estimate; Total: - Less than high school graduate']/df_edu_new['Estimate; Total:']"
   ]
  },
  {
   "cell_type": "code",
   "execution_count": null,
   "metadata": {},
   "outputs": [],
   "source": [
    "# renaming the data frame\n",
    "df_edu_new = df_edu_new.rename(index=str, columns={\"Geography\": \"state\", \"% of less than hs\":\"percentage_of_less_than_hs\"})\n",
    "df_edu = df_edu_new[['state','percentage_of_less_than_hs']]"
   ]
  },
  {
   "cell_type": "code",
   "execution_count": null,
   "metadata": {},
   "outputs": [],
   "source": [
    "df_incident_count_2013_2018.head(5)"
   ]
  },
  {
   "cell_type": "code",
   "execution_count": null,
   "metadata": {},
   "outputs": [],
   "source": [
    "# merging the data\n",
    "df_edu_corr = pd.merge(df_incident_count_2013_2018, df_edu, on=\"state\", how=\"inner\")"
   ]
  },
  {
   "cell_type": "code",
   "execution_count": null,
   "metadata": {},
   "outputs": [],
   "source": [
    "df_edu_corr.head(5)"
   ]
  },
  {
   "cell_type": "code",
   "execution_count": null,
   "metadata": {},
   "outputs": [],
   "source": [
    "# plotting the data \n",
    "df_edu_corr.plot.scatter('percentage_of_less_than_hs', 'incident_count_2013_2018')"
   ]
  },
  {
   "cell_type": "code",
   "execution_count": null,
   "metadata": {},
   "outputs": [],
   "source": [
    "# Calculating the correlation\n",
    "df_edu_corr.corr()['percentage_of_less_than_hs']"
   ]
  },
  {
   "cell_type": "code",
   "execution_count": null,
   "metadata": {},
   "outputs": [],
   "source": []
  },
  {
   "cell_type": "markdown",
   "metadata": {},
   "source": [
    "## Linear Regression"
   ]
  },
  {
   "cell_type": "code",
   "execution_count": null,
   "metadata": {},
   "outputs": [],
   "source": [
    "#merge all predictors\n",
    "#df_incident_counts_2013_2018 (state, incident)\n",
    "#df_incident_count_population_estimate_2017 (state, incident 2013-2018, population 2017)\n",
    "#df_unemployment (state, unemployment 2017)\n",
    "#df_edu (state, <= highschool)\n",
    "#df_nra_direct_support_all_years (state, nra support all years)\n",
    "\n",
    "df_predictors = df_incident_count_population_estimate_2017.merge(df_unemployment,  how='inner', on='state')\n",
    "df_predictors = df_predictors.merge(df_edu, how='inner', on='state')\n",
    "df_predictors = df_predictors.merge(df_nra_direct_support_all_years, how='inner')\n",
    "df_predictors"
   ]
  },
  {
   "cell_type": "code",
   "execution_count": null,
   "metadata": {},
   "outputs": [],
   "source": [
    "df_predictors = sm.add_constant(df_predictors)\n",
    "est = sm.OLS(df_predictors['incident_count_2013_2018'], \n",
    "             df_predictors[['const','population_estimate_2017', 'unemployment_rate_of_2017', 'percentage_of_less_than_hs', 'nra_direct_support']]).fit()\n",
    "\n",
    "print(est.summary())\n"
   ]
  },
  {
   "cell_type": "code",
   "execution_count": null,
   "metadata": {},
   "outputs": [],
   "source": [
    "reg = LinearRegression()\n",
    "X = df_predictors[['population_estimate_2017', 'unemployment_rate_of_2017', 'percentage_of_less_than_hs', 'nra_direct_support']].values\n",
    "y = df_predictors['incident_count_2013_2018'].values\n",
    "cv_results = cross_val_score(reg, X, y, cv=5)\n",
    "print(cv_results)"
   ]
  },
  {
   "cell_type": "code",
   "execution_count": null,
   "metadata": {},
   "outputs": [],
   "source": [
    "# Linear Regression on all features (train-test split)\n",
    "X_train, X_test, y_train, y_test = train_test_split(df_predictors[['population_estimate_2017', 'unemployment_rate_of_2017', 'percentage_of_less_than_hs', 'nra_direct_support']],\n",
    "    df_predictors['incident_count_2013_2018'], test_size = 0.3, random_state=42)\n",
    "reg_all = LinearRegression()\n",
    "reg_all.fit(X_train, y_train)\n",
    "y_pred = reg_all.predict(X_test)\n",
    "\n",
    "reg_all.score(X_test, y_test)"
   ]
  },
  {
   "cell_type": "code",
   "execution_count": null,
   "metadata": {},
   "outputs": [],
   "source": [
    "# Ridge regression\n",
    "ridge = Ridge(alpha=0.1, normalize=True)\n",
    "ridge.fit(X_train,y_train)\n",
    "ridge_pred = ridge.predict(X_test)\n",
    "ridge.score(X_test,y_test)"
   ]
  },
  {
   "cell_type": "code",
   "execution_count": null,
   "metadata": {},
   "outputs": [],
   "source": [
    "# Lasso regression\n",
    "lasso = Lasso()\n",
    "lasso.fit(X_train,y_train)\n",
    "lasso_pred = lasso.predict(X_test)\n",
    "lasso.score(X_test,y_test)"
   ]
  },
  {
   "cell_type": "code",
   "execution_count": null,
   "metadata": {},
   "outputs": [],
   "source": [
    "# Correlation coefficient \n",
    "df_predictors.corr()['incident_count_2013_2018']"
   ]
  },
  {
   "cell_type": "code",
   "execution_count": null,
   "metadata": {},
   "outputs": [],
   "source": [
    "alpha = 0.0004\n",
    "beta = 818.3062\n",
    "charlie = -1.47e+04 \n",
    "delta = 0.0036\n",
    "const= -1947.0676\n",
    "\n",
    "population = 869666\n",
    "unemployment = 3.7\n",
    "education = 0.082891\n",
    "nra = 66555\n",
    "Y = alpha*population+beta*unemployment+charlie*education+delta*nra+const\n",
    "print(Y)"
   ]
  },
  {
   "cell_type": "markdown",
   "metadata": {},
   "source": []
  }
 ],
 "metadata": {
  "kernelspec": {
   "display_name": "Python 3",
   "language": "python",
   "name": "python3"
  },
  "language_info": {
   "codemirror_mode": {
    "name": "ipython",
    "version": 3
   },
   "file_extension": ".py",
   "mimetype": "text/x-python",
   "name": "python",
   "nbconvert_exporter": "python",
   "pygments_lexer": "ipython3",
   "version": "3.7.0"
  }
 },
 "nbformat": 4,
 "nbformat_minor": 2
}
